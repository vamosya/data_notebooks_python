{
  "nbformat": 4,
  "nbformat_minor": 0,
  "metadata": {
    "colab": {
      "name": "GarminActivitiesToCsv.ipynb",
      "provenance": [],
      "collapsed_sections": [],
      "authorship_tag": "ABX9TyPTNG4FtgKVM4CUYoYBy1o+",
      "include_colab_link": true
    },
    "kernelspec": {
      "name": "python3",
      "display_name": "Python 3"
    },
    "language_info": {
      "name": "python"
    }
  },
  "cells": [
    {
      "cell_type": "markdown",
      "metadata": {
        "id": "view-in-github",
        "colab_type": "text"
      },
      "source": [
        "<a href=\"https://colab.research.google.com/github/vamosya/data_notebooks_python/blob/main/GarminActivitiesToCsv.ipynb\" target=\"_parent\"><img src=\"https://colab.research.google.com/assets/colab-badge.svg\" alt=\"Open In Colab\"/></a>"
      ]
    },
    {
      "cell_type": "code",
      "metadata": {
        "colab": {
          "base_uri": "https://localhost:8080/"
        },
        "id": "NXCCO6xzemXV",
        "outputId": "9e891c76-0c18-45ec-cf27-18912f0298c0"
      },
      "source": [
        "pip install garminconnect"
      ],
      "execution_count": 1,
      "outputs": [
        {
          "output_type": "stream",
          "name": "stdout",
          "text": [
            "Collecting garminconnect\n",
            "  Downloading garminconnect-0.1.23.tar.gz (9.8 kB)\n",
            "Requirement already satisfied: requests in /usr/local/lib/python3.7/dist-packages (from garminconnect) (2.23.0)\n",
            "Collecting cloudscraper\n",
            "  Downloading cloudscraper-1.2.58-py2.py3-none-any.whl (96 kB)\n",
            "\u001b[K     |████████████████████████████████| 96 kB 4.0 MB/s \n",
            "\u001b[?25hCollecting requests-toolbelt>=0.9.1\n",
            "  Downloading requests_toolbelt-0.9.1-py2.py3-none-any.whl (54 kB)\n",
            "\u001b[K     |████████████████████████████████| 54 kB 2.9 MB/s \n",
            "\u001b[?25hRequirement already satisfied: pyparsing>=2.4.7 in /usr/local/lib/python3.7/dist-packages (from cloudscraper->garminconnect) (2.4.7)\n",
            "Requirement already satisfied: chardet<4,>=3.0.2 in /usr/local/lib/python3.7/dist-packages (from requests->garminconnect) (3.0.4)\n",
            "Requirement already satisfied: urllib3!=1.25.0,!=1.25.1,<1.26,>=1.21.1 in /usr/local/lib/python3.7/dist-packages (from requests->garminconnect) (1.24.3)\n",
            "Requirement already satisfied: certifi>=2017.4.17 in /usr/local/lib/python3.7/dist-packages (from requests->garminconnect) (2021.5.30)\n",
            "Requirement already satisfied: idna<3,>=2.5 in /usr/local/lib/python3.7/dist-packages (from requests->garminconnect) (2.10)\n",
            "Building wheels for collected packages: garminconnect\n",
            "  Building wheel for garminconnect (setup.py) ... \u001b[?25l\u001b[?25hdone\n",
            "  Created wheel for garminconnect: filename=garminconnect-0.1.23-py3-none-any.whl size=7512 sha256=02fcf633a82769d357aa17eb4037eb2e387a4f04fb7d9a6d411f931f633db679\n",
            "  Stored in directory: /root/.cache/pip/wheels/61/00/19/c3ce8b9a2f6d6d3582b70987431c358d1cf90f07644c0e2350\n",
            "Successfully built garminconnect\n",
            "Installing collected packages: requests-toolbelt, cloudscraper, garminconnect\n",
            "Successfully installed cloudscraper-1.2.58 garminconnect-0.1.23 requests-toolbelt-0.9.1\n"
          ]
        }
      ]
    },
    {
      "cell_type": "code",
      "metadata": {
        "colab": {
          "base_uri": "https://localhost:8080/"
        },
        "id": "Z2PQsd6CnJrU",
        "outputId": "c6eac88b-f44f-46fe-ddb0-c1438784cd50"
      },
      "source": [
        "pip install reverse_geocoder"
      ],
      "execution_count": 2,
      "outputs": [
        {
          "output_type": "stream",
          "name": "stdout",
          "text": [
            "Collecting reverse_geocoder\n",
            "  Downloading reverse_geocoder-1.5.1.tar.gz (2.2 MB)\n",
            "\u001b[K     |████████████████████████████████| 2.2 MB 8.2 MB/s \n",
            "\u001b[?25hRequirement already satisfied: numpy>=1.11.0 in /usr/local/lib/python3.7/dist-packages (from reverse_geocoder) (1.19.5)\n",
            "Requirement already satisfied: scipy>=0.17.1 in /usr/local/lib/python3.7/dist-packages (from reverse_geocoder) (1.4.1)\n",
            "Building wheels for collected packages: reverse-geocoder\n",
            "  Building wheel for reverse-geocoder (setup.py) ... \u001b[?25l\u001b[?25hdone\n",
            "  Created wheel for reverse-geocoder: filename=reverse_geocoder-1.5.1-py3-none-any.whl size=2268087 sha256=dfbd29079b62973953dccf08f1fcf474a03b8843f4a5f997cb5f397b2d98ef25\n",
            "  Stored in directory: /root/.cache/pip/wheels/34/6e/70/5423639428a2cac8ea7eb467214a4254b549b381f306a9c790\n",
            "Successfully built reverse-geocoder\n",
            "Installing collected packages: reverse-geocoder\n",
            "Successfully installed reverse-geocoder-1.5.1\n"
          ]
        }
      ]
    },
    {
      "cell_type": "code",
      "metadata": {
        "id": "0b7D4N91eoW7"
      },
      "source": [
        "# Librerias necesarias\n",
        "from garminconnect import Garmin\n",
        "import logging\n",
        "from getpass import getpass\n",
        "import pandas as pd\n",
        "import reverse_geocoder as rg\n",
        "import warnings\n",
        "warnings.filterwarnings(\"ignore\")"
      ],
      "execution_count": 3,
      "outputs": []
    },
    {
      "cell_type": "code",
      "metadata": {
        "colab": {
          "base_uri": "https://localhost:8080/"
        },
        "id": "ThzQiHTIe_dM",
        "outputId": "6769e83e-52ae-41d2-b58f-5048749fe9ff"
      },
      "source": [
        "# Conexión a Garmin Connect\n",
        "paswd = getpass()\n",
        "client = Garmin(\"cperaltap@gmail.com\", paswd)\n",
        "client.login()\n",
        "print(\"Hola {}! Estás dentro!!\".format(client.get_full_name()))"
      ],
      "execution_count": 4,
      "outputs": [
        {
          "output_type": "stream",
          "name": "stdout",
          "text": [
            "··········\n",
            "Hola Txiki! Estás dentro!!\n"
          ]
        }
      ]
    },
    {
      "cell_type": "code",
      "metadata": {
        "colab": {
          "base_uri": "https://localhost:8080/"
        },
        "id": "-5XuLsUEfgQd",
        "outputId": "069fa616-0962-4c78-a6a5-2a430aafc36e"
      },
      "source": [
        "# Bajar actividades\n",
        "activities = client.get_activities(0,2000) # tope de 2000. Se puede modificar\n",
        "\n",
        "# guardo en un dataframe de Pandas\n",
        "activities = pd.DataFrame(activities)\n",
        "\n",
        "# Muestro id de la primera actividad\n",
        "activities['activityId'][0]"
      ],
      "execution_count": 5,
      "outputs": [
        {
          "output_type": "execute_result",
          "data": {
            "text/plain": [
              "7707003773"
            ]
          },
          "metadata": {},
          "execution_count": 5
        }
      ]
    },
    {
      "cell_type": "code",
      "metadata": {
        "colab": {
          "base_uri": "https://localhost:8080/"
        },
        "id": "6xmhylIu2PhQ",
        "outputId": "f7c8ed12-5e9b-412a-999f-eb6e18717ae9"
      },
      "source": [
        "# Extraer de ActivityType el deporte y añadirlo a columna\n",
        "sports = []\n",
        "for i in range(len(activities)):\n",
        "  sports.append(activities['activityType'][i]['typeKey'])\n",
        "activities['sport'] = sports\n",
        "\n",
        "# Muestro los deportes encontrados\n",
        "activities['sport'].unique()"
      ],
      "execution_count": 6,
      "outputs": [
        {
          "output_type": "execute_result",
          "data": {
            "text/plain": [
              "array(['running', 'hiking', 'mountain_biking', 'cycling', 'paddling',\n",
              "       'stand_up_paddleboarding', 'open_water_swimming', 'inline_skating',\n",
              "       'road_biking', 'rowing', 'strength_training', 'indoor_cycling',\n",
              "       'treadmill_running', 'other', 'indoor_cardio', 'lap_swimming',\n",
              "       'skating_ws', 'swimming', 'walking', 'boating', 'virtual_run',\n",
              "       'elliptical', 'recumbent_cycling', 'rock_climbing',\n",
              "       'indoor_rowing', 'fitness_equipment', 'tennis', 'casual_walking'],\n",
              "      dtype=object)"
            ]
          },
          "metadata": {},
          "execution_count": 6
        }
      ]
    },
    {
      "cell_type": "code",
      "metadata": {
        "colab": {
          "base_uri": "https://localhost:8080/"
        },
        "id": "b5VCFTwohXZv",
        "outputId": "61559921-356c-4dcb-b2cf-7883d4588773"
      },
      "source": [
        "# Redondeo para que haya menos casos diferentes\n",
        "activities = activities.round({'startLatitude': 3})\n",
        "activities = activities.round({'startLongitude': 3})\n",
        "\n",
        "# Paso a string para trabajar mejor con los nan\n",
        "activities['startLatitude'] = activities['startLatitude'].astype(str)\n",
        "activities['startLongitude'] = activities['startLongitude'].astype(str)\n",
        "\n",
        "# Sustituyo nan por 0.0\n",
        "activities['startLatitude'].replace({\"nan\": \"0.0\"}, inplace=True)\n",
        "activities['startLongitude'].replace({\"nan\": \"0.0\"}, inplace=True)\n",
        "\n",
        "# Reseteo el index para facilitar iteración\n",
        "activities.reset_index(drop=True, inplace=True)\n",
        "activities.activityId"
      ],
      "execution_count": 7,
      "outputs": [
        {
          "output_type": "execute_result",
          "data": {
            "text/plain": [
              "0       7707003773\n",
              "1       7697323505\n",
              "2       7687873716\n",
              "3       7673681476\n",
              "4       7660812921\n",
              "           ...    \n",
              "1122     853617665\n",
              "1123     853617810\n",
              "1124     853617944\n",
              "1125     853618102\n",
              "1126    2458506886\n",
              "Name: activityId, Length: 1127, dtype: int64"
            ]
          },
          "metadata": {},
          "execution_count": 7
        }
      ]
    },
    {
      "cell_type": "code",
      "metadata": {
        "colab": {
          "base_uri": "https://localhost:8080/"
        },
        "id": "WLO7C25gFv65",
        "outputId": "d54b7f5f-6b48-48f3-b771-966e28d2e1f4"
      },
      "source": [
        "# Creo la tupla necesaria para buscar después\n",
        "activities['tupleLocation'] = activities[[\"startLatitude\",\"startLongitude\"]].apply(tuple, axis=1)\n",
        "activities['tupleLocation'].value_counts()"
      ],
      "execution_count": 8,
      "outputs": [
        {
          "output_type": "execute_result",
          "data": {
            "text/plain": [
              "(40.562, -3.622)    426\n",
              "(0.0, 0.0)          313\n",
              "(40.236, -4.385)     51\n",
              "(40.566, -3.629)     20\n",
              "(40.563, -3.621)     19\n",
              "                   ... \n",
              "(40.475, -3.336)      1\n",
              "(36.303, -6.118)      1\n",
              "(38.933, -0.096)      1\n",
              "(40.255, -4.37)       1\n",
              "(40.56, -3.621)       1\n",
              "Name: tupleLocation, Length: 166, dtype: int64"
            ]
          },
          "metadata": {},
          "execution_count": 8
        }
      ]
    },
    {
      "cell_type": "code",
      "metadata": {
        "colab": {
          "base_uri": "https://localhost:8080/"
        },
        "id": "0nEQt4l65ioK",
        "outputId": "841f2ed3-3c3f-489e-9cb3-0d1abb219d1d"
      },
      "source": [
        "# Creo lista de ubicaciones únicas para hacer cache\n",
        "cacheLocs = []\n",
        "for i in range(len(activities)):\n",
        "  cacheLocs.append(activities['tupleLocation'][i])\n",
        "cacheLocs = list(set(cacheLocs))\n",
        "\n",
        "# Creo el diccionario con estas ubicaciones únicas y su resultado.\n",
        "tempLocs = {}\n",
        "for i in range(len(cacheLocs)):\n",
        "  tempLocs[cacheLocs[i]] = rg.search(cacheLocs[i])\n",
        "tempLocs\n",
        "\n",
        "# Inicializo las columnas nuevas\n",
        "activities['cityLoc'] = \"\"\n",
        "activities['provinceLoc'] = \"\"\n",
        "activities['regionLoc'] = \"\"\n",
        "activities['countryLoc'] = \"\"\n",
        "\n",
        "# Itero para ir añadiendo los resultados a las columnas\n",
        "for i in range(len(activities)):\n",
        "  coordinates = activities['tupleLocation'][i]\n",
        "  activities['cityLoc'][i] = tempLocs[coordinates][0]['name']\n",
        "  activities['provinceLoc'][i] = tempLocs[coordinates][0]['admin1']\n",
        "  activities['regionLoc'][i] = tempLocs[coordinates][0]['admin2']\n",
        "  activities['countryLoc'][i] = tempLocs[coordinates][0]['cc']\n",
        "\n",
        "# Muestro las regiones únicas donde hay actividades\n",
        "activities.regionLoc.unique()"
      ],
      "execution_count": 9,
      "outputs": [
        {
          "output_type": "stream",
          "name": "stdout",
          "text": [
            "Loading formatted geocoded file...\n"
          ]
        },
        {
          "output_type": "execute_result",
          "data": {
            "text/plain": [
              "array(['Provincia de Madrid', 'Provincia de Huelva', 'Silves',\n",
              "       'Albufeira', 'Province of Toledo', 'Provincia de Valencia', '',\n",
              "       'Provincia de Alicante', 'Provincia de Castello',\n",
              "       'Provincia de Almeria', 'Provincia de Guadalajara',\n",
              "       'Provincia de Segovia', 'Provincia de Cadiz',\n",
              "       'Provincia de Burgos', 'Greater London', 'Murcia'], dtype=object)"
            ]
          },
          "metadata": {},
          "execution_count": 9
        }
      ]
    },
    {
      "cell_type": "code",
      "metadata": {
        "id": "NznMRMKbsXmk"
      },
      "source": [
        "# Creo el csv con las actividades descargadas\n",
        "activities.to_csv('activities.csv')"
      ],
      "execution_count": 10,
      "outputs": []
    }
  ]
}